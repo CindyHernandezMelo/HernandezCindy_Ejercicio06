{
 "cells": [
  {
   "cell_type": "code",
   "execution_count": 4,
   "metadata": {},
   "outputs": [],
   "source": [
    "import numpy as np\n",
    "import matplotlib.pyplot as plt\n",
    "\n",
    "x = np.array([4.6, 6.0, 2.0, 5.8])\n",
    "sigma = np.array([2.0, 1.5, 5.0, 1.0])"
   ]
  },
  {
   "cell_type": "code",
   "execution_count": 66,
   "metadata": {},
   "outputs": [
    {
     "data": {
      "image/png": "[encoded data removed]",
      "text/plain": [
       "<Figure size 432x288 with 1 Axes>"
      ]
     },
     "metadata": {
      "needs_background": "light"
     },
     "output_type": "display_data"
    }
   ],
   "source": [
    "Nmu = 100\n",
    "mu = np.linspace(0,10,Nmu)\n",
    "\n",
    "p_xk_mu = np.zeros([np.shape(x)[0],Nmu])\n",
    "for i in range(Nmu):\n",
    "    p_xk_mu[:,i] = 1/np.sqrt(2*np.pi*sigma**2)*np.exp(-0.5*((x - mu[i])**2)/(sigma**2))\n",
    "\n",
    "p_mu = 1/(np.max(mu)-np.min(mu))\n",
    "p_x = np.trapz(x)\n",
    "p_mu_kx = np.prod(p_xk_mu, axis = 0)*p_mu/p_x\n",
    "\n",
    "L = np.sum(np.log(p_xk_mu), axis = 0)\n",
    "\n",
    "arg_max = np.argmax(L)\n",
    "\n",
    "d2L_dmu2 = (L[arg_max+1] - 2*L[arg_max] + L[arg_max-1]) / ((mu[1]-mu[0])**2)\n",
    "\n",
    "plt.plot(mu,p_mu_kx)\n",
    "plt.title('$\\mu $= %f  $\\pm$ %f'%(mu[arg_max],(-d2L_dmu2)**(-0.5)) )\n",
    "plt.savefig('mean.pdf')"
   ]
  },
  {
   "cell_type": "code",
   "execution_count": 54,
   "metadata": {},
   "outputs": [
    {
     "data": {
      "text/plain": [
       "-7.827569766019669"
      ]
     },
     "execution_count": 54,
     "metadata": {},
     "output_type": "execute_result"
    }
   ],
   "source": [
    "L[arg_max+1]"
   ]
  },
  {
   "cell_type": "code",
   "execution_count": 55,
   "metadata": {},
   "outputs": [
    {
     "data": {
      "text/plain": [
       "-14.252053112286246"
      ]
     },
     "execution_count": 55,
     "metadata": {},
     "output_type": "execute_result"
    }
   ],
   "source": [
    " 2*L[arg_max]"
   ]
  },
  {
   "cell_type": "code",
   "execution_count": 57,
   "metadata": {},
   "outputs": [
    {
     "data": {
      "text/plain": [
       "-11.242384580834479"
      ]
     },
     "execution_count": 57,
     "metadata": {},
     "output_type": "execute_result"
    }
   ],
   "source": [
    " L[arg_max-1]"
   ]
  },
  {
   "cell_type": "code",
   "execution_count": 60,
   "metadata": {},
   "outputs": [
    {
     "data": {
      "text/plain": [
       "-1.7344444444444438"
      ]
     },
     "execution_count": 60,
     "metadata": {},
     "output_type": "execute_result"
    }
   ],
   "source": [
    "d2L_dmu2"
   ]
  },
  {
   "cell_type": "code",
   "execution_count": null,
   "metadata": {},
   "outputs": [],
   "source": []
  }
 ],
 "metadata": {
  "kernelspec": {
   "display_name": "Python 3",
   "language": "python",
   "name": "python3"
  },
  "language_info": {
   "codemirror_mode": {
    "name": "ipython",
    "version": 3
   },
   "file_extension": ".py",
   "mimetype": "text/x-python",
   "name": "python",
   "nbconvert_exporter": "python",
   "pygments_lexer": "ipython3",
   "version": "3.7.6"
  }
 },
 "nbformat": 4,
 "nbformat_minor": 4
}
