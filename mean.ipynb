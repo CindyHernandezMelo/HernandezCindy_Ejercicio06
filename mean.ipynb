{
 "cells": [
  {
   "cell_type": "code",
   "execution_count": 2,
   "metadata": {},
   "outputs": [],
   "source": [
    "import numpy as np\n",
    "import matplotlib.pyplot as plt\n",
    "\n",
    "x = np.array([4.6, 6.0, 2.0, 5.8])\n",
    "sigma = np.array([2.0, 1.5, 5.0, 1.0])"
   ]
  },
  {
   "cell_type": "code",
   "execution_count": 3,
   "metadata": {},
   "outputs": [
    {
     "data": {
      "image/png": "[encoded data removed]",
      "text/plain": [
       "<Figure size 432x288 with 1 Axes>"
      ]
     },
     "metadata": {
      "needs_background": "light"
     },
     "output_type": "display_data"
    }
   ],
   "source": [
    "Nmu = 100\n",
    "mu = np.linspace(0,10,Nmu)\n",
    "\n",
    "p_xk_mu = np.zeros([np.shape(x)[0],Nmu])\n",
    "for i in range(Nmu):\n",
    "    p_xk_mu[:,i] = 1/np.sqrt(2*np.pi*sigma**2)*np.exp(-0.5*((x - mu[i])**2)/(sigma**2))\n",
    "\n",
    "p_mu = 1/(np.max(mu)-np.min(mu))\n",
    "p_x = np.trapz(x)\n",
    "p_mu_kx = np.prod(p_xk_mu, axis = 0)*p_mu/p_x\n",
    "\n",
    "L = np.sum(np.log(p_xk_mu), axis = 0)\n",
    "\n",
    "arg_max = np.argmax(L)\n",
    "\n",
    "d2L_dmu2 = (L[arg_max+1] - 2*L[arg_max] + L[arg_max-1]) / ((mu[1]-mu[0])**2)\n",
    "\n",
    "plt.plot(mu,p_mu_kx)\n",
    "plt.title('$\\mu $= %f  $\\pm$ %f'%(mu[arg_max],(-d2L_dmu2)**(-0.5)) )\n",
    "plt.savefig('mean.pdf')"
   ]
  },
  {
   "cell_type": "code",
   "execution_count": 4,
   "metadata": {},
   "outputs": [
    {
     "data": {
      "text/plain": [
       "-6.82725233809281"
      ]
     },
     "execution_count": 4,
     "metadata": {},
     "output_type": "execute_result"
    }
   ],
   "source": [
    "L[arg_max+1]"
   ]
  },
  {
   "cell_type": "code",
   "execution_count": 5,
   "metadata": {},
   "outputs": [
    {
     "data": {
      "text/plain": [
       "-13.649103866744408"
      ]
     },
     "execution_count": 5,
     "metadata": {},
     "output_type": "execute_result"
    }
   ],
   "source": [
    " 2*L[arg_max]"
   ]
  },
  {
   "cell_type": "code",
   "execution_count": 6,
   "metadata": {},
   "outputs": [
    {
     "data": {
      "text/plain": [
       "-6.839548135573793"
      ]
     },
     "execution_count": 6,
     "metadata": {},
     "output_type": "execute_result"
    }
   ],
   "source": [
    " L[arg_max-1]"
   ]
  },
  {
   "cell_type": "code",
   "execution_count": 7,
   "metadata": {},
   "outputs": [
    {
     "data": {
      "text/plain": [
       "-1.734444444444342"
      ]
     },
     "execution_count": 7,
     "metadata": {},
     "output_type": "execute_result"
    }
   ],
   "source": [
    "d2L_dmu2"
   ]
  },
  {
   "cell_type": "code",
   "execution_count": 8,
   "metadata": {},
   "outputs": [
    {
     "data": {
      "text/plain": [
       "13.200000000000001"
      ]
     },
     "execution_count": 8,
     "metadata": {},
     "output_type": "execute_result"
    }
   ],
   "source": [
    "p_x"
   ]
  },
  {
   "cell_type": "code",
   "execution_count": 25,
   "metadata": {},
   "outputs": [
    {
     "name": "stderr",
     "output_type": "stream",
     "text": [
      "/srv/conda/envs/notebook/lib/python3.7/site-packages/ipykernel_launcher.py:28: MatplotlibDeprecationWarning: \n",
      "The 'normed' kwarg was deprecated in Matplotlib 2.1 and will be removed in 3.1. Use 'density' instead.\n"
     ]
    },
    {
     "data": {
      "image/png": "[encoded data removed]",
      "text/plain": [
       "<Figure size 432x288 with 1 Axes>"
      ]
     },
     "metadata": {
      "needs_background": "light"
     },
     "output_type": "display_data"
    }
   ],
   "source": [
    "x_walk = 4 #this is an empty list to keep all the steps\n",
    "x_0 = 8.0*((np.random.random())-0.5) #this is the initialization\n",
    "x_walk = np.append(x_walk,x_0)\n",
    "\n",
    "\n",
    "max, sigma = mu[arg_max],(-d2L_dmu2)**(-0.5)\n",
    "def nasty_function(H, max,sigma):\n",
    "\n",
    "    return (1.0/np.sqrt(2.0*np.pi*sigma**2))*np.exp(-0.5*(H-max)**2/(sigma**2))\n",
    "\n",
    "\n",
    "n_iterations = 1000 #this is the number of iterations I want to make\n",
    "for i in range(n_iterations):\n",
    "    x_prime = np.random.normal(x_walk[i],sigma) #0.1 is the sigma (std. dev) in the normal distribution\n",
    "    alpha = nasty_function(x_prime,max, sigma)/nasty_function(x_walk[i],max, sigma)\n",
    "    if(alpha>=1.0):\n",
    "        x_walk  = np.append(x_walk,x_prime)\n",
    "    else:\n",
    "        beta = np.random.random()\n",
    "        if(beta<=alpha):\n",
    "            x_walk = np.append(x_walk,x_prime)\n",
    "        else:\n",
    "            x_walk = np.append(x_walk,x_walk[i])\n",
    "            \n",
    "f = nasty_function(x, max,sigma)\n",
    "norm = sum(f*(x[1]-x[0]))\n",
    "\n",
    "count, bins, ignored = plt.hist(x_walk, 30, normed=True)\n",
    "plt.scatter(x_walk, nasty_function(x_walk, max, sigma), c = 'r')\n",
    "#fig = figure(1, figsize=(9.5,6.5))\n",
    "plt.xlabel('x')\n",
    "plt.ylabel('p(x)')\n",
    "plt.savefig('metropolis.pdf')"
   ]
  },
  {
   "cell_type": "code",
   "execution_count": null,
   "metadata": {},
   "outputs": [],
   "source": []
  },
  {
   "cell_type": "code",
   "execution_count": null,
   "metadata": {},
   "outputs": [],
   "source": []
  }
 ],
 "metadata": {
  "kernelspec": {
   "display_name": "Python 3",
   "language": "python",
   "name": "python3"
  },
  "language_info": {
   "codemirror_mode": {
    "name": "ipython",
    "version": 3
   },
   "file_extension": ".py",
   "mimetype": "text/x-python",
   "name": "python",
   "nbconvert_exporter": "python",
   "pygments_lexer": "ipython3",
   "version": "3.7.6"
  }
 },
 "nbformat": 4,
 "nbformat_minor": 4
}
